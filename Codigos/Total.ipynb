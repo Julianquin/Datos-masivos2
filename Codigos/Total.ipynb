{
 "cells": [
  {
   "cell_type": "code",
   "execution_count": null,
   "id": "17e8ec09",
   "metadata": {},
   "outputs": [],
   "source": [
    "import Proyecto_Driver\n",
    "import ipywidgets as widgets\n",
    "from IPython.display import display"
   ]
  },
  {
   "cell_type": "markdown",
   "id": "05065fba",
   "metadata": {},
   "source": [
    "## Detectar el aeropuerto"
   ]
  },
  {
   "cell_type": "code",
   "execution_count": null,
   "id": "6bb343ac",
   "metadata": {},
   "outputs": [],
   "source": [
    "mapa_aeropuerto = Proyecto_Driver.step_1()"
   ]
  },
  {
   "cell_type": "markdown",
   "id": "ffb61634",
   "metadata": {},
   "source": [
    "## Destinos desde el aeropuerto "
   ]
  },
  {
   "cell_type": "markdown",
   "id": "e2868524",
   "metadata": {},
   "source": [
    "Ahora se le mostrarán 20 de los destinos más destacables que hemos encontrado desde el aeropuerto más cercano."
   ]
  },
  {
   "cell_type": "code",
   "execution_count": null,
   "id": "1f58f0e8",
   "metadata": {},
   "outputs": [],
   "source": [
    "lista, destinos = Proyecto_Driver.step_2()"
   ]
  },
  {
   "cell_type": "markdown",
   "id": "7b854a44",
   "metadata": {},
   "source": [
    "Detalles de las ciudades"
   ]
  },
  {
   "cell_type": "code",
   "execution_count": null,
   "id": "f3e879d7",
   "metadata": {},
   "outputs": [],
   "source": [
    "drop = widgets.Dropdown(\n",
    "    options=lista,\n",
    ")\n",
    "out = widgets.interactive_output(\n",
    "    lambda ciudad: Proyecto_Driver.step_3(ciudad, destinos),\n",
    "    {'ciudad': drop}\n",
    ")\n",
    "widgets.VBox([drop, out])"
   ]
  },
  {
   "cell_type": "markdown",
   "id": "063dbdf4",
   "metadata": {},
   "source": [
    "## Ruta hacía el aeropuerto"
   ]
  },
  {
   "cell_type": "code",
   "execution_count": null,
   "id": "98e92060",
   "metadata": {},
   "outputs": [],
   "source": [
    "Proyecto_Driver.step_4(mapa_aeropuerto)"
   ]
  }
 ],
 "metadata": {
  "kernelspec": {
   "display_name": "Python 3 (ipykernel)",
   "language": "python",
   "name": "python3"
  },
  "language_info": {
   "codemirror_mode": {
    "name": "ipython",
    "version": 3
   },
   "file_extension": ".py",
   "mimetype": "text/x-python",
   "name": "python",
   "nbconvert_exporter": "python",
   "pygments_lexer": "ipython3",
   "version": "3.10.6"
  },
  "vscode": {
   "interpreter": {
    "hash": "2acbbc62b63727f51b412b81f44665fa10e0f4ef373d646d67463d6fac66285f"
   }
  }
 },
 "nbformat": 4,
 "nbformat_minor": 5
}
